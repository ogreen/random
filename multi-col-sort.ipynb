{
 "cells": [
  {
   "cell_type": "code",
   "execution_count": 30,
   "metadata": {},
   "outputs": [],
   "source": [
    "import cudf\n",
    "import cupy as cp\n",
    "import numpy as np\n",
    "import sys\n",
    "import time\n",
    "import numba\n",
    "from numba import cuda\n",
    "\n",
    "from cupy import prof"
   ]
  },
  {
   "cell_type": "code",
   "execution_count": 31,
   "metadata": {},
   "outputs": [],
   "source": [
    "intiSize = int(1e8)\n",
    "interval = int(2e7)\n",
    "numCols = 3\n",
    "iterations=1\n",
    "\n",
    "enableDF=True\n",
    "enableMultiDF=False\n",
    "enableCUPY=True"
   ]
  },
  {
   "cell_type": "code",
   "execution_count": null,
   "metadata": {},
   "outputs": [],
   "source": []
  },
  {
   "cell_type": "code",
   "execution_count": 32,
   "metadata": {},
   "outputs": [],
   "source": [
    "import rmm\n",
    "\n",
    "def rmm_cupy_allocator(nbytes):\n",
    "    \"\"\"\n",
    "    A CuPy allocator that makes use of RMM.\n",
    "Examples\n",
    "    --------\n",
    "    >>> import rmm\n",
    "    >>> import cupy\n",
    "    >>> cupy.cuda.set_allocator(rmm.rmm_cupy_allocator)\n",
    "    \"\"\"\n",
    "    if cupy is None:\n",
    "        raise ModuleNotFoundError(\"No module named 'cupy'\")\n",
    "    buf = librmm.device_buffer.DeviceBuffer(size=nbytes)\n",
    "    dev_id = -1 if buf.ptr else cupy.cuda.device.get_device_id()\n",
    "    mem = cupy.cuda.UnownedMemory(\n",
    "        ptr=buf.ptr, size=buf.size, owner=buf, device_id=dev_id\n",
    "    )\n",
    "    ptr = cp.cuda.memory.MemoryPointer(mem, 0)\n",
    "    return ptr\n",
    "\n",
    "cp.cuda.set_allocator(rmm.rmm_cupy_allocator)"
   ]
  },
  {
   "cell_type": "code",
   "execution_count": 33,
   "metadata": {},
   "outputs": [],
   "source": [
    "size = intiSize\n",
    "\n",
    "df=cudf.DataFrame()\n",
    "sortedDF=cudf.DataFrame()\n",
    "\n",
    "cp.random.seed(234234)\n",
    "\n",
    "strCol = []\n",
    "for c in range(numCols):\n",
    "    strCol.append(str(c))\n",
    "# print(strCol)\n",
    "\n",
    "for c in range(numCols):\n",
    "    randvals = cp.random.randint(low= 0, high=2**20, size=size, dtype=cp.int32)\n",
    "\n",
    "    randvals = cp.asfortranarray(randvals)\n",
    "    dfCol = cudf.from_dlpack(randvals.toDlpack())\n",
    "    \n",
    "    df.add_column(str(c), dfCol)\n",
    "\n",
    "# print(df)\n"
   ]
  },
  {
   "cell_type": "code",
   "execution_count": 34,
   "metadata": {},
   "outputs": [
    {
     "name": "stdout",
     "output_type": "stream",
     "text": [
      "0.86, 115.93, \n"
     ]
    }
   ],
   "source": [
    "\n",
    "\n",
    "if(enableDF==True):\n",
    "    with prof.time_range(\"cudf-sort\", 0):\n",
    "        cuda.synchronize()\n",
    "        dfstart = time.time()\n",
    "        for it in range(iterations):\n",
    "    #         sortedDF = df.sort_values([\"0\",\"1\",\"2\",\"3\",\"4\"])\n",
    "            sortedDF = df.sort_values(strCol)\n",
    "        cuda.synchronize()\n",
    "        dfstop  = time.time()\n",
    "\n",
    "\n",
    "    print('%.2f'%((dfstop-dfstart)/(float(iterations))),end=\", \")\n",
    "    print('%.2f'%(float(iterations*size)/(dfstop-dfstart)/1e6),end=\", \")\n",
    "    print(\"\")\n",
    "\n",
    "# print(sortedPerm)\n",
    "# print(sortedDF)"
   ]
  },
  {
   "cell_type": "code",
   "execution_count": 35,
   "metadata": {},
   "outputs": [],
   "source": [
    "multiDF=cudf.DataFrame()\n",
    "unsorted = cudf.DataFrame()\n",
    "size = intiSize\n",
    "\n",
    "# print(unsorted['index'])\n",
    "\n",
    "interest = 3\n",
    "if (enableMultiDF==True):\n",
    "    with prof.time_range(\"df-multi-sort\", 0):\n",
    "        cuda.synchronize()\n",
    "        mldfstart = time.time()\n",
    "        for it in range(iterations):\n",
    "        #     unsorted['index']=[ int(i) for i in range(intiSize)]\n",
    "            indexArr = cp.arange(intiSize)\n",
    "            indexArr = cp.asfortranarray(indexArr)\n",
    "            unsorted['index'] = cudf.from_dlpack(indexArr.toDlpack())\n",
    "            unsorted['index'].head()    \n",
    "            for c1 in range(numCols):\n",
    "                c=numCols-c1-1\n",
    "            #     print(c)\n",
    "                unsorted['data'] = df[str(c)].iloc[unsorted['index']]\n",
    "        #         if(c==interest):\n",
    "        #             print(unsorted)\n",
    "\n",
    "            #     indices = unsorted['index']\n",
    "            #     unsorted = unsorted.iloc[indices]\n",
    "            #     if(c==interest):\n",
    "            #         print(unsorted)    \n",
    "\n",
    "                unsorted = unsorted.sort_values('data')\n",
    "        #         if(c==interest):\n",
    "        #             print(unsorted)\n",
    "\n",
    "        cuda.synchronize()\n",
    "        mldfstop  = time.time()\n",
    "\n",
    "\n",
    "    print('%.2f'%((mldfstop-mldfstart)/(float(iterations))),end=\", \")\n",
    "    print('%.2f'%(float(iterations*size)/(mldfstop-mldfstart)/1e6),end=\", \")\n",
    "    print(\"\")\n",
    "    multiDF = df.iloc[unsorted['index']]\n",
    "    print(multiDF)\n",
    "\n",
    "    print(multiDF.equals(sortedDF))\n"
   ]
  },
  {
   "cell_type": "code",
   "execution_count": 36,
   "metadata": {},
   "outputs": [],
   "source": [
    "# diffDF = cudf.DataFrame()\n",
    "# diffDF = smartDF.equals(sortedDF)\n",
    "# print(diffDF)"
   ]
  },
  {
   "cell_type": "code",
   "execution_count": null,
   "metadata": {},
   "outputs": [],
   "source": []
  },
  {
   "cell_type": "code",
   "execution_count": 37,
   "metadata": {},
   "outputs": [
    {
     "name": "stdout",
     "output_type": "stream",
     "text": [
      "0.30, 331.13, \n"
     ]
    }
   ],
   "source": [
    "multiPyDF=cudf.DataFrame()\n",
    "unsorted = cudf.DataFrame()\n",
    "size = intiSize\n",
    "# unsorted['index']=[ int(i) for i in range(intiSize)]\n",
    "\n",
    "\n",
    "# print(unsorted['index'])\n",
    "\n",
    "interest=3\n",
    "\n",
    "if(enableCUPY==True):\n",
    "    with prof.time_range(\"multi-sort\", 0):\n",
    "\n",
    "        cuda.synchronize()\n",
    "        mldfstart = time.time()\n",
    "        for it in range(iterations):\n",
    "\n",
    "            indexArr = cp.arange(intiSize)\n",
    "\n",
    "            for c1 in range(numCols):\n",
    "                c=numCols-c1-1\n",
    "            #     print(c)\n",
    "        #         dataArray = cp.asarray(df[str(c)].iloc[indexArr])\n",
    "                dataArray = cp.asarray(df[str(c)])\n",
    "                dataArray = dataArray[indexArr]\n",
    "        #         if(c==interest):\n",
    "        #             print(dataArray)\n",
    "        #             print(indexArr)\n",
    "\n",
    "                newIndex = cp.argsort(dataArray)\n",
    "                indexArr = indexArr[newIndex]\n",
    "            #####        unsorted = unsorted.sort_values('data')\n",
    "        #         if(c==interest):\n",
    "        #             print(dataArray[indexArr])\n",
    "        #             print(indexArr)\n",
    "\n",
    "        cuda.synchronize()\n",
    "        mldfstop  = time.time()\n",
    "        # print(indexArr)\n",
    "\n",
    "    # print(dataArray[indexArr])\n",
    "    # print(cp.asarray(df[str(1)].iloc[indexArr]))\n",
    "\n",
    "\n",
    "    print('%.2f'%((mldfstop-mldfstart)/(float(iterations))),end=\", \")\n",
    "    print('%.2f'%(float(iterations*size)/(mldfstop-mldfstart)/1e6),end=\", \")\n",
    "    print(\"\")\n",
    "\n",
    "#     multiPyDF = df.iloc[indexArr]\n",
    "#     print(multiPyDF)\n",
    "#     print(multiPyDF.equals(sortedDF))\n"
   ]
  },
  {
   "cell_type": "code",
   "execution_count": 38,
   "metadata": {},
   "outputs": [
    {
     "name": "stdout",
     "output_type": "stream",
     "text": [
      "                0        1       2\n",
      "75629383        0     9094  514397\n",
      "55366960        0     9224  287479\n",
      "62985407        0    10932  327524\n",
      "14556757        0    14267   54170\n",
      "41708702        0    18705  275136\n",
      "...           ...      ...     ...\n",
      "88763613  1048575  1016785  638180\n",
      "21552791  1048575  1021259  641297\n",
      "29929935  1048575  1023611  693230\n",
      "33038233  1048575  1030260  975646\n",
      "77239708  1048575  1041066  407941\n",
      "\n",
      "[100000000 rows x 3 columns]\n",
      "False\n"
     ]
    }
   ],
   "source": [
    "multiPyDF = df.iloc[indexArr]\n",
    "print(multiPyDF)\n",
    "\n",
    "print(multiPyDF.equals(multiDF))\n",
    "# print(newUnsorted.iloc[newUnsorted['index']])\n"
   ]
  },
  {
   "cell_type": "code",
   "execution_count": null,
   "metadata": {},
   "outputs": [],
   "source": []
  },
  {
   "cell_type": "code",
   "execution_count": null,
   "metadata": {},
   "outputs": [],
   "source": []
  }
 ],
 "metadata": {
  "kernelspec": {
   "display_name": "Python 3",
   "language": "python",
   "name": "python3"
  },
  "language_info": {
   "codemirror_mode": {
    "name": "ipython",
    "version": 3
   },
   "file_extension": ".py",
   "mimetype": "text/x-python",
   "name": "python",
   "nbconvert_exporter": "python",
   "pygments_lexer": "ipython3",
   "version": "3.7.8"
  }
 },
 "nbformat": 4,
 "nbformat_minor": 4
}
